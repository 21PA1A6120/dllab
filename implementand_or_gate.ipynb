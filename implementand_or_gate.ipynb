{
  "nbformat": 4,
  "nbformat_minor": 0,
  "metadata": {
    "colab": {
      "provenance": []
    },
    "kernelspec": {
      "name": "python3",
      "display_name": "Python 3"
    },
    "language_info": {
      "name": "python"
    }
  },
  "cells": [
    {
      "cell_type": "code",
      "execution_count": 1,
      "metadata": {
        "id": "f2jqOHZbagQm"
      },
      "outputs": [],
      "source": [
        "import numpy as np\n",
        "import random\n",
        "import sys"
      ]
    },
    {
      "cell_type": "code",
      "source": [
        "and_gate = [\n",
        "# [(inputs), expected output]\n",
        "    [(1, 1), 1],\n",
        "    [(1, -1), -1],\n",
        "    [(-1, 1), -1],\n",
        "    [(-1, -1), -1]\n",
        "]\n"
      ],
      "metadata": {
        "id": "7lm1JVQdapl3"
      },
      "execution_count": 2,
      "outputs": []
    },
    {
      "cell_type": "code",
      "source": [
        "or_gate = [\n",
        "    [(1, 1), 1],\n",
        "    [(1, -1), 1],\n",
        "    [(-1, 1), 1],\n",
        "    [(-1, -1), -1]\n",
        "]"
      ],
      "metadata": {
        "id": "opD7jHQjavEP"
      },
      "execution_count": 3,
      "outputs": []
    },
    {
      "cell_type": "code",
      "source": [
        "def activation_function(x):\n",
        "    if x > 0:\n",
        "        return 1\n",
        "    elif x < 0:\n",
        "        return -1"
      ],
      "metadata": {
        "id": "BhXCHAYya_PN"
      },
      "execution_count": 4,
      "outputs": []
    },
    {
      "cell_type": "code",
      "source": [
        "def run_perceptron(gate):\n",
        "    bias = (1,) # the bias is always one\n",
        "    learning_constant = 0.1\n",
        "    n = 50 # how many times the machine learns\n",
        "\n",
        "    weights = []\n",
        "\n",
        "    # initialize with 3 random weights between -1 and 1, one for each input and one for the bias\n",
        "    for i in range(3):\n",
        "        weights.append(random.uniform(-1, 1))\n",
        "\n",
        "    for i in range(n):\n",
        "        inputs, expected_output = random.choice(gate)\n",
        "        inputs = inputs + bias # add the bias here\n",
        "        weighted_sum = np.dot(inputs, weights)\n",
        "        guess = activation_function(weighted_sum) # find the sign of the weighted sum\n",
        "        error = expected_output - guess\n",
        "        weights += learning_constant * error * np.asarray(inputs) # change the weights to include the error times input, won't change if there's no error\n",
        "\n",
        "\n",
        "    inputs, expected_output = random.choice(gate)\n",
        "    print(\"inputs: \" + str(inputs))\n",
        "    inputs = inputs + bias\n",
        "    weighted_sum = np.dot(inputs, weights)\n",
        "    print(\"weighted sum: \" + str(weighted_sum))\n",
        "    print(\"correct answer: \" + str(expected_output))\n",
        "    print(\"perceptron guess: \" + str(activation_function(weighted_sum)) + '\\n')"
      ],
      "metadata": {
        "id": "u2Hawz5vbBoM"
      },
      "execution_count": 5,
      "outputs": []
    },
    {
      "cell_type": "code",
      "source": [
        "tests=2\n",
        "for i in range(tests):\n",
        "    print(\"// AND //\")\n",
        "    run_perceptron(and_gate)\n",
        "\n",
        "    print(\"// OR //\")\n",
        "    run_perceptron(or_gate)"
      ],
      "metadata": {
        "colab": {
          "base_uri": "https://localhost:8080/"
        },
        "id": "XqA8UAIIbJV2",
        "outputId": "4cef69d7-cf37-440c-ff04-1affbaa44ed7"
      },
      "execution_count": 6,
      "outputs": [
        {
          "output_type": "stream",
          "name": "stdout",
          "text": [
            "// AND //\n",
            "inputs: (-1, 1)\n",
            "weighted sum: -0.635592120055631\n",
            "correct answer: -1\n",
            "perceptron guess: -1\n",
            "\n",
            "// OR //\n",
            "inputs: (-1, 1)\n",
            "weighted sum: 0.019296321399777716\n",
            "correct answer: 1\n",
            "perceptron guess: 1\n",
            "\n",
            "// AND //\n",
            "inputs: (1, 1)\n",
            "weighted sum: 0.33519951015469485\n",
            "correct answer: 1\n",
            "perceptron guess: 1\n",
            "\n",
            "// OR //\n",
            "inputs: (1, -1)\n",
            "weighted sum: 0.08559129192512427\n",
            "correct answer: 1\n",
            "perceptron guess: 1\n",
            "\n"
          ]
        }
      ]
    },
    {
      "cell_type": "code",
      "source": [],
      "metadata": {
        "id": "TSpmGBEdC269"
      },
      "execution_count": null,
      "outputs": []
    }
  ]
}